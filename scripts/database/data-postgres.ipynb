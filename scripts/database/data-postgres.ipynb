{
 "cells": [
  {
   "cell_type": "code",
   "execution_count": null,
   "metadata": {},
   "outputs": [],
   "source": [
    "from sqlalchemy import create_engine, Column, Integer, String, ForeignKey\n",
    "from sqlalchemy.ext.declarative import declarative_base\n",
    "from sqlalchemy.orm import relationship\n",
    "import pandas as pd"
   ]
  },
  {
   "cell_type": "code",
   "execution_count": null,
   "metadata": {},
   "outputs": [],
   "source": [
    "username = \"capstone_admin\"\n",
    "password = \"Energy#2023\"\n",
    "host = \"capstonedb.postgres.database.azure.com\"\n",
    "port = \"5432\"\n",
    "database = \"postgres\""
   ]
  },
  {
   "cell_type": "code",
   "execution_count": null,
   "metadata": {},
   "outputs": [],
   "source": [
    "engine = create_engine(f\"postgresql://{username}:{password}@{host}:{port}/{database}\")"
   ]
  },
  {
   "cell_type": "code",
   "execution_count": null,
   "metadata": {},
   "outputs": [],
   "source": [
    "df_Consumer = pd.DataFrame({\n",
    "    'consumer_number': list(range(1, 2809))\n",
    "})\n",
    "\n",
    "df_Consumer.to_sql('consumer', engine, if_exists='append', index=False)"
   ]
  },
  {
   "cell_type": "code",
   "execution_count": null,
   "metadata": {},
   "outputs": [],
   "source": [
    "import pandas as pd\n",
    "\n",
    "# Replace 'your_input_file.csv' with the actual file name\n",
    "input_file = '../../Capstone/AnomalyDetection/Labelled_Data.csv'\n",
    "\n",
    "# Read the CSV file into a DataFrame\n",
    "df = pd.read_csv(input_file)\n",
    "\n",
    "df = df.iloc[:, 1:-1]\n",
    "\n",
    "# Melt the DataFrame to reshape it\n",
    "df_melted = pd.melt(df, id_vars=['Consumer_Number'], var_name='Time', value_name='Consumption')\n",
    "()"
   ]
  },
  {
   "cell_type": "code",
   "execution_count": null,
   "metadata": {},
   "outputs": [],
   "source": [
    "df_melted=df_melted.loc[df_melted['Consumption'].notnull()]"
   ]
  },
  {
   "cell_type": "code",
   "execution_count": null,
   "metadata": {},
   "outputs": [],
   "source": [
    "df_melted.tail()"
   ]
  },
  {
   "cell_type": "code",
   "execution_count": null,
   "metadata": {},
   "outputs": [],
   "source": [
    "df_melted['Time'] = df_melted['Time'].str.strip()\n"
   ]
  },
  {
   "cell_type": "code",
   "execution_count": null,
   "metadata": {},
   "outputs": [],
   "source": [
    "df_melted['Time'] = '2022/' + df_melted['Time']"
   ]
  },
  {
   "cell_type": "code",
   "execution_count": null,
   "metadata": {},
   "outputs": [],
   "source": [
    "df_melted['Time'] = df_melted['Time'].str.replace(' 24:', ' 00:', regex=False)\n"
   ]
  },
  {
   "cell_type": "code",
   "execution_count": null,
   "metadata": {},
   "outputs": [],
   "source": [
    "df_melted['Time'] = pd.to_datetime(df_melted['Time'], format='%Y/%m/%d %H:%M:%S')"
   ]
  },
  {
   "cell_type": "code",
   "execution_count": null,
   "metadata": {},
   "outputs": [],
   "source": [
    "df_Consumption = df_melted.sort_values(by=['Consumer_Number', 'Time'])\n"
   ]
  },
  {
   "cell_type": "code",
   "execution_count": null,
   "metadata": {},
   "outputs": [],
   "source": [
    "df_Consumption.columns = [col.lower() for col in df_Consumption.columns]"
   ]
  },
  {
   "cell_type": "code",
   "execution_count": null,
   "metadata": {},
   "outputs": [],
   "source": [
    "df_Consumption.head()"
   ]
  },
  {
   "cell_type": "code",
   "execution_count": null,
   "metadata": {},
   "outputs": [],
   "source": [
    "df_Consumption.to_csv('../../Capstone/AnomalyDetection/FinalData.csv', index=False)"
   ]
  },
  {
   "cell_type": "code",
   "execution_count": null,
   "metadata": {},
   "outputs": [],
   "source": [
    "import pandas as pd\n",
    "\n",
    "# Replace 'your_input_file.csv' with the actual file name\n",
    "input_file = '../../Capstone/AnomalyDetection/Labelled_Data.csv'\n",
    "\n",
    "# Read the CSV file into a DataFrame\n",
    "df = pd.read_csv(input_file)\n",
    "\n",
    "df_Fraud = df.iloc[:, [1, -1]]\n"
   ]
  },
  {
   "cell_type": "code",
   "execution_count": null,
   "metadata": {},
   "outputs": [],
   "source": [
    "df_Fraud.head()"
   ]
  },
  {
   "cell_type": "code",
   "execution_count": null,
   "metadata": {},
   "outputs": [],
   "source": [
    "df_Fraud.columns = [col.lower() for col in df_Fraud.columns]"
   ]
  },
  {
   "cell_type": "code",
   "execution_count": null,
   "metadata": {},
   "outputs": [],
   "source": [
    "consumers_with_consumption = df_melted.loc[df_melted['Consumption'].notnull(), 'Consumer_Number'].unique()\n",
    "\n",
    "df_Fraud = df_Fraud[df_Fraud['consumer_number'].isin(consumers_with_consumption)]"
   ]
  },
  {
   "cell_type": "code",
   "execution_count": null,
   "metadata": {},
   "outputs": [],
   "source": [
    "df_Fraud.to_sql('fraud', engine, if_exists='append', index=False)"
   ]
  },
  {
   "cell_type": "code",
   "execution_count": null,
   "metadata": {},
   "outputs": [],
   "source": [
    "import pandas as pd\n",
    "\n",
    "# Define the range of values for area_code and city_code\n",
    "area_code_range = range(1, 10)\n",
    "city_code_range = range(1, 3)\n",
    "\n",
    "num_records=2808\n",
    "\n",
    "# Calculate the total number of combinations\n",
    "total_combinations = len(area_code_range) * len(city_code_range)\n",
    "\n",
    "# Calculate the number of times each combination should be repeated\n",
    "repeats = (num_records // total_combinations)+1\n",
    "\n",
    "# Create a list of combinations based on the desired distribution\n",
    "combinations = [(area, city) for area in area_code_range for city in city_code_range] * repeats\n",
    "\n",
    "# Create a DataFrame with the specified number of records and columns\n",
    "df = pd.DataFrame(combinations[:2808], columns=['area_code', 'city_code'])\n",
    "\n",
    "df=df.sample(frac=1).reset_index(drop=True)\n",
    "\n",
    "df['consumer_number']=list(range(1, 2809))"
   ]
  },
  {
   "cell_type": "code",
   "execution_count": null,
   "metadata": {},
   "outputs": [],
   "source": [
    "df"
   ]
  },
  {
   "cell_type": "code",
   "execution_count": null,
   "metadata": {},
   "outputs": [],
   "source": [
    "df.to_sql('temp', engine, if_exists='replace', index=False)"
   ]
  },
  {
   "cell_type": "code",
   "execution_count": 4,
   "metadata": {},
   "outputs": [],
   "source": [
    "import pandas as pd\n",
    "\n",
    "# Replace 'your_input_file.csv' with the actual file name\n",
    "input_file = '../../Capstone/AnomalyDetection/FinalData.csv'\n",
    "\n",
    "# Read the CSV file into a DataFrame\n",
    "df = pd.read_csv(input_file)"
   ]
  },
  {
   "cell_type": "code",
   "execution_count": 6,
   "metadata": {},
   "outputs": [
    {
     "data": {
      "text/html": [
       "<div>\n",
       "<style scoped>\n",
       "    .dataframe tbody tr th:only-of-type {\n",
       "        vertical-align: middle;\n",
       "    }\n",
       "\n",
       "    .dataframe tbody tr th {\n",
       "        vertical-align: top;\n",
       "    }\n",
       "\n",
       "    .dataframe thead th {\n",
       "        text-align: right;\n",
       "    }\n",
       "</style>\n",
       "<table border=\"1\" class=\"dataframe\">\n",
       "  <thead>\n",
       "    <tr style=\"text-align: right;\">\n",
       "      <th></th>\n",
       "      <th>consumer_number</th>\n",
       "      <th>time</th>\n",
       "      <th>consumption</th>\n",
       "    </tr>\n",
       "  </thead>\n",
       "  <tbody>\n",
       "    <tr>\n",
       "      <th>0</th>\n",
       "      <td>1</td>\n",
       "      <td>2022-01-01 00:00:00</td>\n",
       "      <td>1.375976</td>\n",
       "    </tr>\n",
       "    <tr>\n",
       "      <th>1</th>\n",
       "      <td>1</td>\n",
       "      <td>2022-01-01 01:00:00</td>\n",
       "      <td>1.019364</td>\n",
       "    </tr>\n",
       "    <tr>\n",
       "      <th>2</th>\n",
       "      <td>1</td>\n",
       "      <td>2022-01-01 02:00:00</td>\n",
       "      <td>0.887116</td>\n",
       "    </tr>\n",
       "    <tr>\n",
       "      <th>3</th>\n",
       "      <td>1</td>\n",
       "      <td>2022-01-01 03:00:00</td>\n",
       "      <td>0.833463</td>\n",
       "    </tr>\n",
       "    <tr>\n",
       "      <th>4</th>\n",
       "      <td>1</td>\n",
       "      <td>2022-01-01 04:00:00</td>\n",
       "      <td>0.818020</td>\n",
       "    </tr>\n",
       "  </tbody>\n",
       "</table>\n",
       "</div>"
      ],
      "text/plain": [
       "   consumer_number                 time  consumption\n",
       "0                1  2022-01-01 00:00:00     1.375976\n",
       "1                1  2022-01-01 01:00:00     1.019364\n",
       "2                1  2022-01-01 02:00:00     0.887116\n",
       "3                1  2022-01-01 03:00:00     0.833463\n",
       "4                1  2022-01-01 04:00:00     0.818020"
      ]
     },
     "execution_count": 6,
     "metadata": {},
     "output_type": "execute_result"
    }
   ],
   "source": [
    "df.head()"
   ]
  },
  {
   "cell_type": "code",
   "execution_count": 12,
   "metadata": {},
   "outputs": [],
   "source": [
    "short_data = df.pivot(index='consumer_number', columns='time', values='consumption')\n",
    "\n",
    "# Reset index to make 'Consumer_Number' a regular column\n",
    "short_data.reset_index(inplace=True)\n",
    "\n",
    "# Save the short-format data to a new CSV file"
   ]
  },
  {
   "cell_type": "code",
   "execution_count": 9,
   "metadata": {},
   "outputs": [
    {
     "data": {
      "text/html": [
       "<div>\n",
       "<style scoped>\n",
       "    .dataframe tbody tr th:only-of-type {\n",
       "        vertical-align: middle;\n",
       "    }\n",
       "\n",
       "    .dataframe tbody tr th {\n",
       "        vertical-align: top;\n",
       "    }\n",
       "\n",
       "    .dataframe thead th {\n",
       "        text-align: right;\n",
       "    }\n",
       "</style>\n",
       "<table border=\"1\" class=\"dataframe\">\n",
       "  <thead>\n",
       "    <tr style=\"text-align: right;\">\n",
       "      <th>time</th>\n",
       "      <th>consumer_number</th>\n",
       "      <th>2022-01-01 00:00:00</th>\n",
       "      <th>2022-01-01 01:00:00</th>\n",
       "      <th>2022-01-01 02:00:00</th>\n",
       "      <th>2022-01-01 03:00:00</th>\n",
       "      <th>2022-01-01 04:00:00</th>\n",
       "      <th>2022-01-01 05:00:00</th>\n",
       "      <th>2022-01-01 06:00:00</th>\n",
       "      <th>2022-01-01 07:00:00</th>\n",
       "      <th>2022-01-01 08:00:00</th>\n",
       "      <th>...</th>\n",
       "      <th>2022-12-31 14:00:00</th>\n",
       "      <th>2022-12-31 15:00:00</th>\n",
       "      <th>2022-12-31 16:00:00</th>\n",
       "      <th>2022-12-31 17:00:00</th>\n",
       "      <th>2022-12-31 18:00:00</th>\n",
       "      <th>2022-12-31 19:00:00</th>\n",
       "      <th>2022-12-31 20:00:00</th>\n",
       "      <th>2022-12-31 21:00:00</th>\n",
       "      <th>2022-12-31 22:00:00</th>\n",
       "      <th>2022-12-31 23:00:00</th>\n",
       "    </tr>\n",
       "  </thead>\n",
       "  <tbody>\n",
       "    <tr>\n",
       "      <th>2800</th>\n",
       "      <td>2804</td>\n",
       "      <td>0.631053</td>\n",
       "      <td>0.496640</td>\n",
       "      <td>0.439889</td>\n",
       "      <td>0.425809</td>\n",
       "      <td>0.422608</td>\n",
       "      <td>0.414483</td>\n",
       "      <td>0.452747</td>\n",
       "      <td>0.557538</td>\n",
       "      <td>0.678062</td>\n",
       "      <td>...</td>\n",
       "      <td>0.418884</td>\n",
       "      <td>0.437699</td>\n",
       "      <td>0.486977</td>\n",
       "      <td>0.635472</td>\n",
       "      <td>0.876832</td>\n",
       "      <td>1.021419</td>\n",
       "      <td>0.971284</td>\n",
       "      <td>0.946185</td>\n",
       "      <td>0.882437</td>\n",
       "      <td>0.740183</td>\n",
       "    </tr>\n",
       "    <tr>\n",
       "      <th>2801</th>\n",
       "      <td>2805</td>\n",
       "      <td>0.632817</td>\n",
       "      <td>0.493088</td>\n",
       "      <td>0.439053</td>\n",
       "      <td>0.423747</td>\n",
       "      <td>0.420198</td>\n",
       "      <td>0.411318</td>\n",
       "      <td>0.444323</td>\n",
       "      <td>0.535158</td>\n",
       "      <td>0.659692</td>\n",
       "      <td>...</td>\n",
       "      <td>0.416137</td>\n",
       "      <td>0.440209</td>\n",
       "      <td>0.485429</td>\n",
       "      <td>0.628977</td>\n",
       "      <td>0.867563</td>\n",
       "      <td>1.013945</td>\n",
       "      <td>0.963318</td>\n",
       "      <td>0.941752</td>\n",
       "      <td>0.876344</td>\n",
       "      <td>0.735051</td>\n",
       "    </tr>\n",
       "    <tr>\n",
       "      <th>2802</th>\n",
       "      <td>2806</td>\n",
       "      <td>0.617528</td>\n",
       "      <td>0.486307</td>\n",
       "      <td>0.432671</td>\n",
       "      <td>0.417586</td>\n",
       "      <td>0.415479</td>\n",
       "      <td>0.406740</td>\n",
       "      <td>0.441795</td>\n",
       "      <td>0.540482</td>\n",
       "      <td>0.659222</td>\n",
       "      <td>...</td>\n",
       "      <td>0.445822</td>\n",
       "      <td>0.455621</td>\n",
       "      <td>0.501025</td>\n",
       "      <td>0.643484</td>\n",
       "      <td>0.880706</td>\n",
       "      <td>1.027000</td>\n",
       "      <td>0.977355</td>\n",
       "      <td>0.953103</td>\n",
       "      <td>0.886825</td>\n",
       "      <td>0.743616</td>\n",
       "    </tr>\n",
       "    <tr>\n",
       "      <th>2803</th>\n",
       "      <td>2807</td>\n",
       "      <td>0.660924</td>\n",
       "      <td>0.519355</td>\n",
       "      <td>0.466338</td>\n",
       "      <td>0.454021</td>\n",
       "      <td>0.453625</td>\n",
       "      <td>0.448415</td>\n",
       "      <td>0.486243</td>\n",
       "      <td>0.597547</td>\n",
       "      <td>0.719387</td>\n",
       "      <td>...</td>\n",
       "      <td>0.470124</td>\n",
       "      <td>0.491553</td>\n",
       "      <td>0.537548</td>\n",
       "      <td>0.682769</td>\n",
       "      <td>0.937405</td>\n",
       "      <td>1.072692</td>\n",
       "      <td>1.012990</td>\n",
       "      <td>0.990111</td>\n",
       "      <td>0.920353</td>\n",
       "      <td>0.775467</td>\n",
       "    </tr>\n",
       "    <tr>\n",
       "      <th>2804</th>\n",
       "      <td>2808</td>\n",
       "      <td>0.668509</td>\n",
       "      <td>0.533434</td>\n",
       "      <td>0.487133</td>\n",
       "      <td>0.476923</td>\n",
       "      <td>0.477313</td>\n",
       "      <td>0.471699</td>\n",
       "      <td>0.508649</td>\n",
       "      <td>0.600132</td>\n",
       "      <td>0.717164</td>\n",
       "      <td>...</td>\n",
       "      <td>0.460276</td>\n",
       "      <td>0.476705</td>\n",
       "      <td>0.520293</td>\n",
       "      <td>0.656688</td>\n",
       "      <td>0.895152</td>\n",
       "      <td>1.035920</td>\n",
       "      <td>0.983643</td>\n",
       "      <td>0.959488</td>\n",
       "      <td>0.891894</td>\n",
       "      <td>0.749544</td>\n",
       "    </tr>\n",
       "  </tbody>\n",
       "</table>\n",
       "<p>5 rows × 8761 columns</p>\n",
       "</div>"
      ],
      "text/plain": [
       "time  consumer_number  2022-01-01 00:00:00  2022-01-01 01:00:00  \\\n",
       "2800             2804             0.631053             0.496640   \n",
       "2801             2805             0.632817             0.493088   \n",
       "2802             2806             0.617528             0.486307   \n",
       "2803             2807             0.660924             0.519355   \n",
       "2804             2808             0.668509             0.533434   \n",
       "\n",
       "time  2022-01-01 02:00:00  2022-01-01 03:00:00  2022-01-01 04:00:00  \\\n",
       "2800             0.439889             0.425809             0.422608   \n",
       "2801             0.439053             0.423747             0.420198   \n",
       "2802             0.432671             0.417586             0.415479   \n",
       "2803             0.466338             0.454021             0.453625   \n",
       "2804             0.487133             0.476923             0.477313   \n",
       "\n",
       "time  2022-01-01 05:00:00  2022-01-01 06:00:00  2022-01-01 07:00:00  \\\n",
       "2800             0.414483             0.452747             0.557538   \n",
       "2801             0.411318             0.444323             0.535158   \n",
       "2802             0.406740             0.441795             0.540482   \n",
       "2803             0.448415             0.486243             0.597547   \n",
       "2804             0.471699             0.508649             0.600132   \n",
       "\n",
       "time  2022-01-01 08:00:00  ...  2022-12-31 14:00:00  2022-12-31 15:00:00  \\\n",
       "2800             0.678062  ...             0.418884             0.437699   \n",
       "2801             0.659692  ...             0.416137             0.440209   \n",
       "2802             0.659222  ...             0.445822             0.455621   \n",
       "2803             0.719387  ...             0.470124             0.491553   \n",
       "2804             0.717164  ...             0.460276             0.476705   \n",
       "\n",
       "time  2022-12-31 16:00:00  2022-12-31 17:00:00  2022-12-31 18:00:00  \\\n",
       "2800             0.486977             0.635472             0.876832   \n",
       "2801             0.485429             0.628977             0.867563   \n",
       "2802             0.501025             0.643484             0.880706   \n",
       "2803             0.537548             0.682769             0.937405   \n",
       "2804             0.520293             0.656688             0.895152   \n",
       "\n",
       "time  2022-12-31 19:00:00  2022-12-31 20:00:00  2022-12-31 21:00:00  \\\n",
       "2800             1.021419             0.971284             0.946185   \n",
       "2801             1.013945             0.963318             0.941752   \n",
       "2802             1.027000             0.977355             0.953103   \n",
       "2803             1.072692             1.012990             0.990111   \n",
       "2804             1.035920             0.983643             0.959488   \n",
       "\n",
       "time  2022-12-31 22:00:00  2022-12-31 23:00:00  \n",
       "2800             0.882437             0.740183  \n",
       "2801             0.876344             0.735051  \n",
       "2802             0.886825             0.743616  \n",
       "2803             0.920353             0.775467  \n",
       "2804             0.891894             0.749544  \n",
       "\n",
       "[5 rows x 8761 columns]"
      ]
     },
     "execution_count": 9,
     "metadata": {},
     "output_type": "execute_result"
    }
   ],
   "source": [
    "short_data.tail()"
   ]
  },
  {
   "cell_type": "code",
   "execution_count": 14,
   "metadata": {},
   "outputs": [],
   "source": [
    "short_data.to_csv('unlabelled data.csv', index=False)\n"
   ]
  }
 ],
 "metadata": {
  "kernelspec": {
   "display_name": "capstone",
   "language": "python",
   "name": "python3"
  },
  "language_info": {
   "codemirror_mode": {
    "name": "ipython",
    "version": 3
   },
   "file_extension": ".py",
   "mimetype": "text/x-python",
   "name": "python",
   "nbconvert_exporter": "python",
   "pygments_lexer": "ipython3",
   "version": "3.9.13"
  }
 },
 "nbformat": 4,
 "nbformat_minor": 2
}
