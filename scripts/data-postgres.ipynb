{
 "cells": [
  {
   "cell_type": "code",
   "execution_count": 3,
   "metadata": {},
   "outputs": [],
   "source": [
    "from sqlalchemy import create_engine, Column, Integer, String, ForeignKey\n",
    "from sqlalchemy.ext.declarative import declarative_base\n",
    "from sqlalchemy.orm import relationship\n",
    "import pandas as pd"
   ]
  },
  {
   "cell_type": "code",
   "execution_count": 4,
   "metadata": {},
   "outputs": [],
   "source": [
    "username = \"capstone_admin\"\n",
    "password = \"Energy#2023\"\n",
    "host = \"capstonedb.postgres.database.azure.com\"\n",
    "port = \"5432\"\n",
    "database = \"postgres\""
   ]
  },
  {
   "cell_type": "code",
   "execution_count": 6,
   "metadata": {},
   "outputs": [
    {
     "name": "stderr",
     "output_type": "stream",
     "text": [
      "/var/folders/k8/8klrh8hn75v3fz7g2tjzs0r80000gn/T/ipykernel_20587/1358546259.py:3: MovedIn20Warning: The ``declarative_base()`` function is now available as sqlalchemy.orm.declarative_base(). (deprecated since: 2.0) (Background on SQLAlchemy 2.0 at: https://sqlalche.me/e/b8d9)\n",
      "  Base = declarative_base()\n"
     ]
    }
   ],
   "source": [
    "engine = create_engine(f\"postgresql://{username}:{password}@{host}:{port}/{database}\")\n",
    "\n",
    "Base = declarative_base()\n",
    "\n",
    "class Consumer(Base):\n",
    "    __tablename__ = 'Consumer'\n",
    "    Consumer_Number = Column(Integer, primary_key=True)\n",
    "\n",
    "Base.metadata.create_all(engine)"
   ]
  },
  {
   "cell_type": "code",
   "execution_count": 8,
   "metadata": {},
   "outputs": [
    {
     "data": {
      "text/plain": [
       "808"
      ]
     },
     "execution_count": 8,
     "metadata": {},
     "output_type": "execute_result"
    }
   ],
   "source": [
    "df_Consumer = pd.DataFrame({\n",
    "    'Consumer_Number': list(range(1, 2809))\n",
    "})\n",
    "\n",
    "df_Consumer.to_sql('Consumer', engine, if_exists='replace', index=False)"
   ]
  },
  {
   "cell_type": "code",
   "execution_count": null,
   "metadata": {},
   "outputs": [],
   "source": [
    "# Define the second table (df2) with a foreign key referencing the first table's primary key\n",
    "class Consumption_History(Base):\n",
    "    __tablename__ = 'table2'\n",
    "    id = Column(Integer, primary_key=True)\n",
    "    column3 = Column(String)\n",
    "    column4 = Column(Integer)\n",
    "    table1_id = Column(Integer, ForeignKey('table1.id'))\n",
    "    \n",
    "    # Define a relationship to access Table1 data\n",
    "    table1 = relationship('Table1', back_populates='table2')\n",
    "\n",
    "# Define the relationship from Table1 to Table2\n",
    "Table1.table2 = relationship('Table2', back_populates='table1')"
   ]
  }
 ],
 "metadata": {
  "kernelspec": {
   "display_name": "capstone",
   "language": "python",
   "name": "python3"
  },
  "language_info": {
   "codemirror_mode": {
    "name": "ipython",
    "version": 3
   },
   "file_extension": ".py",
   "mimetype": "text/x-python",
   "name": "python",
   "nbconvert_exporter": "python",
   "pygments_lexer": "ipython3",
   "version": "3.9.13"
  }
 },
 "nbformat": 4,
 "nbformat_minor": 2
}
