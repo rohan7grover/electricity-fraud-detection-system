{
 "cells": [
  {
   "cell_type": "code",
   "execution_count": 2,
   "metadata": {},
   "outputs": [
    {
     "ename": "",
     "evalue": "",
     "output_type": "error",
     "traceback": [
      "\u001b[1;31mThe Kernel crashed while executing code in the the current cell or a previous cell. Please review the code in the cell(s) to identify a possible cause of the failure. Click <a href='https://aka.ms/vscodeJupyterKernelCrash'>here</a> for more info. View Jupyter <a href='command:jupyter.viewOutput'>log</a> for further details."
     ]
    }
   ],
   "source": [
    "import pandas as pd\n",
    "from tensorflow.keras.models import Sequential\n",
    "from tensorflow.keras.layers import SimpleRNN, Dense\n",
    "from sklearn.model_selection import train_test_split\n",
    "from sklearn.preprocessing import StandardScaler\n",
    "\n",
    "# Load the dataset\n",
    "final_data_short = pd.read_csv('final_data_short_sample.csv')\n",
    "data_labels = pd.read_csv('labelled data.csv')\n",
    "\n",
    "# Preprocess the dataset\n",
    "final_data_short.fillna(0, inplace=True)  # Fill missing values\n",
    "\n",
    "# Ensure indices align properly\n",
    "final_data_short.set_index('consumer_number', inplace=True)\n",
    "data_labels.set_index('consumer_number', inplace=True)\n",
    "\n",
    "# Extract the features for the labeled data\n",
    "X_labeled = final_data_short.loc[data_labels.index]\n",
    "\n",
    "# Normalize the features\n",
    "scaler = StandardScaler()\n",
    "X_labeled_normalized = scaler.fit_transform(X_labeled)\n",
    "\n",
    "# Reshape input for RNN: [samples, time steps, features]\n",
    "# Assuming each row is a separate time step\n",
    "X_labeled_normalized = X_labeled_normalized.reshape((X_labeled_normalized.shape[0], 1, X_labeled_normalized.shape[1]))\n",
    "\n",
    "y_labeled = data_labels['fraud_status']\n",
    "\n",
    "# Split the data\n",
    "X_train, X_test, y_train, y_test = train_test_split(X_labeled_normalized, y_labeled, test_size=0.2, random_state=42)\n",
    "\n",
    "# Build a simpler RNN model\n",
    "model = Sequential()\n",
    "model.add(SimpleRNN(20, activation='relu', input_shape=(1, X_train.shape[2])))\n",
    "model.add(Dense(1, activation='sigmoid'))\n",
    "\n",
    "# Compile the model\n",
    "model.compile(loss='binary_crossentropy', optimizer='adam', metrics=['accuracy'])\n",
    "\n",
    "# Train the model\n",
    "model.fit(X_train, y_train, epochs=5, batch_size=16)\n",
    "\n",
    "# Evaluate the model\n",
    "loss, accuracy = model.evaluate(X_test, y_test)\n",
    "print(f'Loss: {loss}, Accuracy: {accuracy}')\n"
   ]
  },
  {
   "cell_type": "code",
   "execution_count": 1,
   "metadata": {},
   "outputs": [],
   "source": [
    "import pandas as pd\n",
    "import numpy as np\n",
    "\n",
    "data = pd.read_csv('final_data_short_sample.csv')\n",
    "delta = 2.0\n",
    "\n",
    "consumer_numbers = data['consumer_number'].values\n",
    "data = data.drop(columns=['consumer_number'])\n",
    "\n",
    "score = np.zeros(len(data))\n",
    "pos = np.arange(len(data))\n",
    "\n",
    "for i in range(len(data)):\n",
    "    mu_h = data.iloc[i].mean()\n",
    "    sigma_h = data.iloc[i].std()\n",
    "    zh_d = (data.iloc[i] - mu_h) / sigma_h\n",
    "    label_h_d = zh_d < (-delta * sigma_h)\n",
    "    day_level_score = np.sum(label_h_d)\n",
    "    score[i] = day_level_score\n",
    "\n",
    "pos = np.argsort(score)\n",
    "\n",
    "result_df = pd.DataFrame({'ConsumerNumber': consumer_numbers, 'Rank': pos})\n",
    "result_df = result_df.sort_values(by='Rank', ascending=True)\n",
    "\n",
    "size = int(np.round(0.1 * result_df.shape[0]))\n",
    "defaulter_list = result_df.head(size)['ConsumerNumber'].tolist()\n",
    "\n",
    "data = pd.read_csv('final_data_short_sample.csv')\n",
    "data['fraud_status'] = 0\n",
    "data.loc[data['consumer_number'].isin(defaulter_list), 'fraud_status'] = 1\n",
    "data[['consumer_number','fraud_status']].to_csv('labelled data.csv',index=False)\n"
   ]
  }
 ],
 "metadata": {
  "kernelspec": {
   "display_name": "base",
   "language": "python",
   "name": "python3"
  },
  "language_info": {
   "codemirror_mode": {
    "name": "ipython",
    "version": 3
   },
   "file_extension": ".py",
   "mimetype": "text/x-python",
   "name": "python",
   "nbconvert_exporter": "python",
   "pygments_lexer": "ipython3",
   "version": "3.9.13"
  }
 },
 "nbformat": 4,
 "nbformat_minor": 2
}
